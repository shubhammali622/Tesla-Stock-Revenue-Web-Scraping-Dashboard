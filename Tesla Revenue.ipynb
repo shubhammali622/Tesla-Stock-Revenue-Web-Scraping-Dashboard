{
 "cells": [
  {
   "cell_type": "code",
   "execution_count": 1,
   "id": "ed93037f",
   "metadata": {},
   "outputs": [],
   "source": [
    "import requests\n",
    "from bs4 import BeautifulSoup\n",
    "import pandas as pd"
   ]
  },
  {
   "cell_type": "code",
   "execution_count": 2,
   "id": "2ee4096c",
   "metadata": {},
   "outputs": [],
   "source": [
    "# Define the URL of the webpage containing Tesla revenue data\n",
    "url = \"https://companiesmarketcap.com/tesla/revenue/\"\n"
   ]
  },
  {
   "cell_type": "code",
   "execution_count": 3,
   "id": "bd8c1d3a",
   "metadata": {},
   "outputs": [],
   "source": [
    "# Send a GET request to the URL\n",
    "response = requests.get(url)\n",
    "\n",
    "# Parse the HTML content of the webpage\n",
    "soup = BeautifulSoup(response.content, \"html.parser\")"
   ]
  },
  {
   "cell_type": "code",
   "execution_count": 4,
   "id": "3d72e7de",
   "metadata": {},
   "outputs": [
    {
     "name": "stdout",
     "output_type": "stream",
     "text": [
      "Tail of Tesla Revenue DataFrame:\n",
      "    Year  Revenue\n",
      "10  2013  $2.01 B\n",
      "11  2012  $0.41 B\n",
      "12  2011  $0.20 B\n",
      "13  2010  $0.11 B\n",
      "14  2009  $0.11 B\n"
     ]
    }
   ],
   "source": [
    "# Find the table containing the revenue data\n",
    "table = soup.find(\"table\", class_=\"table\")\n",
    "\n",
    "# Check if table is found\n",
    "if table is not None:\n",
    "    # Find all rows in the table\n",
    "    rows = table.find_all(\"tr\")\n",
    "\n",
    "    # Initialize lists to store year and revenue data\n",
    "    years = []\n",
    "    revenues = []\n",
    "\n",
    "    # Loop through each row (excluding the header row)\n",
    "    for row in rows[1:]:\n",
    "        # Extract data from each cell in the row\n",
    "        cells = row.find_all(\"td\")\n",
    "        # Extract the year and revenue value\n",
    "        year = cells[0].text.strip()\n",
    "        revenue = cells[1].text.strip()\n",
    "        # Append year and revenue to lists\n",
    "        years.append(year)\n",
    "        revenues.append(revenue)\n",
    "\n",
    "    # Create a DataFrame from the extracted data\n",
    "    tesla_revenue = pd.DataFrame({\"Year\": years, \"Revenue\": revenues})\n",
    "\n",
    "    # Display the tail of the DataFrame\n",
    "    print(\"Tail of Tesla Revenue DataFrame:\")\n",
    "    print(tesla_revenue.tail())\n",
    "else:\n",
    "    print(\"Table not found. Check the HTML structure of the webpage.\")"
   ]
  },
  {
   "cell_type": "code",
   "execution_count": null,
   "id": "52b22b83",
   "metadata": {},
   "outputs": [],
   "source": []
  }
 ],
 "metadata": {
  "kernelspec": {
   "display_name": "Python 3 (ipykernel)",
   "language": "python",
   "name": "python3"
  },
  "language_info": {
   "codemirror_mode": {
    "name": "ipython",
    "version": 3
   },
   "file_extension": ".py",
   "mimetype": "text/x-python",
   "name": "python",
   "nbconvert_exporter": "python",
   "pygments_lexer": "ipython3",
   "version": "3.11.7"
  }
 },
 "nbformat": 4,
 "nbformat_minor": 5
}
