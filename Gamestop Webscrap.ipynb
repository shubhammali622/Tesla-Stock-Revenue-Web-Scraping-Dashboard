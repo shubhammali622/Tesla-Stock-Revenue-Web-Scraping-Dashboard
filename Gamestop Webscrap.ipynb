{
 "cells": [
  {
   "cell_type": "code",
   "execution_count": 1,
   "id": "54c1ec93",
   "metadata": {},
   "outputs": [],
   "source": [
    "import requests\n",
    "from bs4 import BeautifulSoup\n",
    "import pandas as pd"
   ]
  },
  {
   "cell_type": "code",
   "execution_count": 2,
   "id": "51099765",
   "metadata": {},
   "outputs": [],
   "source": [
    "# Define the URL of the webpage containing GameStop revenue data\n",
    "url = \"https://companiesmarketcap.com/gamestop/revenue/\"\n",
    "\n",
    "# Send a GET request to the URL\n",
    "response = requests.get(url)\n",
    "\n",
    "# Parse the HTML content of the webpage\n",
    "soup = BeautifulSoup(response.content, \"html.parser\")\n",
    "\n",
    "# Find the table containing the revenue data\n",
    "table = soup.find(\"table\", class_=\"table\")"
   ]
  },
  {
   "cell_type": "code",
   "execution_count": 3,
   "id": "8419d306",
   "metadata": {},
   "outputs": [
    {
     "name": "stdout",
     "output_type": "stream",
     "text": [
      "Last five rows of GameStop Revenue DataFrame:\n",
      "    Year  Revenue\n",
      "18  2006  $4.68 B\n",
      "19  2005  $2.13 B\n",
      "20  2004  $1.75 B\n",
      "21  2003  $1.47 B\n",
      "22  2002  $1.34 B\n"
     ]
    }
   ],
   "source": [
    "# Check if table is found\n",
    "if table is not None:\n",
    "    # Initialize lists to store year and revenue data\n",
    "    years = []\n",
    "    revenues = []\n",
    "\n",
    "    # Find all rows in the table body\n",
    "    rows = table.find(\"tbody\").find_all(\"tr\")\n",
    "\n",
    "    # Loop through each row\n",
    "    for row in rows:\n",
    "        # Extract data from each cell in the row\n",
    "        cells = row.find_all(\"td\")\n",
    "        # Extract the year and revenue value\n",
    "        year = cells[0].text.strip()\n",
    "        revenue = cells[1].text.strip()\n",
    "        # Append year and revenue to lists\n",
    "        years.append(year)\n",
    "        revenues.append(revenue)\n",
    "\n",
    "    # Create a DataFrame from the extracted data\n",
    "    gamestop_revenue = pd.DataFrame({\"Year\": years, \"Revenue\": revenues})\n",
    "\n",
    "    # Display the last five rows of the DataFrame\n",
    "    print(\"Last five rows of GameStop Revenue DataFrame:\")\n",
    "    print(gamestop_revenue.tail())\n",
    "else:\n",
    "    print(\"Table not found. Check the HTML structure of the webpage.\")"
   ]
  },
  {
   "cell_type": "code",
   "execution_count": null,
   "id": "41a08c23",
   "metadata": {},
   "outputs": [],
   "source": []
  }
 ],
 "metadata": {
  "kernelspec": {
   "display_name": "Python 3 (ipykernel)",
   "language": "python",
   "name": "python3"
  },
  "language_info": {
   "codemirror_mode": {
    "name": "ipython",
    "version": 3
   },
   "file_extension": ".py",
   "mimetype": "text/x-python",
   "name": "python",
   "nbconvert_exporter": "python",
   "pygments_lexer": "ipython3",
   "version": "3.11.7"
  }
 },
 "nbformat": 4,
 "nbformat_minor": 5
}
