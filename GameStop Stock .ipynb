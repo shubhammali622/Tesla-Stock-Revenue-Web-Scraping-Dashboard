{
 "cells": [
  {
   "cell_type": "code",
   "execution_count": 1,
   "id": "f05914b9",
   "metadata": {},
   "outputs": [],
   "source": [
    "import yfinance as yf\n",
    "\n",
    "# Define the ticker symbol for GameStop\n",
    "ticker_symbol = \"GME\""
   ]
  },
  {
   "cell_type": "code",
   "execution_count": 2,
   "id": "534cb4a2",
   "metadata": {},
   "outputs": [
    {
     "name": "stderr",
     "output_type": "stream",
     "text": [
      "[*********************100%%**********************]  1 of 1 completed\n"
     ]
    }
   ],
   "source": [
    "# Use yfinance to retrieve GameStop stock data\n",
    "gme_data = yf.download(ticker_symbol, start=\"2021-01-01\", end=\"2022-01-01\")"
   ]
  },
  {
   "cell_type": "code",
   "execution_count": 3,
   "id": "806b4273",
   "metadata": {},
   "outputs": [
    {
     "name": "stdout",
     "output_type": "stream",
     "text": [
      "GameStop Stock Data:\n",
      "              Open    High     Low   Close  Adj Close    Volume\n",
      "Date                                                           \n",
      "2021-01-04  4.7500  4.7750  4.2875  4.3125     4.3125  40090000\n",
      "2021-01-05  4.3375  4.5200  4.3075  4.3425     4.3425  19846000\n",
      "2021-01-06  4.3350  4.7450  4.3325  4.5900     4.5900  24224800\n",
      "2021-01-07  4.6175  4.8625  4.5050  4.5200     4.5200  24517200\n",
      "2021-01-08  4.5450  4.5750  4.2700  4.4225     4.4225  25928000\n"
     ]
    }
   ],
   "source": [
    "# Display the extracted data\n",
    "print(\"GameStop Stock Data:\")\n",
    "print(gme_data.head())  # Display the first few rows of the data"
   ]
  },
  {
   "cell_type": "code",
   "execution_count": null,
   "id": "9cf552a3",
   "metadata": {},
   "outputs": [],
   "source": []
  }
 ],
 "metadata": {
  "kernelspec": {
   "display_name": "Python 3 (ipykernel)",
   "language": "python",
   "name": "python3"
  },
  "language_info": {
   "codemirror_mode": {
    "name": "ipython",
    "version": 3
   },
   "file_extension": ".py",
   "mimetype": "text/x-python",
   "name": "python",
   "nbconvert_exporter": "python",
   "pygments_lexer": "ipython3",
   "version": "3.11.7"
  }
 },
 "nbformat": 4,
 "nbformat_minor": 5
}
